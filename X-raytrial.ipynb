{
 "cells": [
  {
   "cell_type": "code",
   "execution_count": 15,
   "id": "803fc2cd",
   "metadata": {},
   "outputs": [],
   "source": [
    "import skimage\n",
    "import numpy as np\n",
    "from PIL import Image, ImageFont, ImageDraw\n",
    "import matplotlib.image as mpimg\n",
    "import matplotlib.pylab as plt\n",
    "import cv2\n",
    "import tifffile as tiff"
   ]
  },
  {
   "cell_type": "code",
   "execution_count": null,
   "id": "f1689be8",
   "metadata": {},
   "outputs": [],
   "source": []
  },
  {
   "cell_type": "code",
   "execution_count": 18,
   "id": "50d4bbf3",
   "metadata": {},
   "outputs": [
    {
     "name": "stdout",
     "output_type": "stream",
     "text": [
      "uint8\n"
     ]
    },
    {
     "data": {
      "text/plain": [
       "'\\nplt.imshow(getSlice(img,[101,200]))\\nplt.show()\\nplt.imshow(getSlice(img,[201,300]))\\nplt.show()'"
      ]
     },
     "execution_count": 18,
     "metadata": {},
     "output_type": "execute_result"
    }
   ],
   "source": [
    "fn = \"images/img1.tiff\"\n",
    "#img = tiff.imread(fn)\n",
    "#plt.imshow(img)\n",
    "#plt.show()\n",
    "#img.show()\n",
    "img = Image.open(fn).convert(\"L\")\n",
    "img.show()\n",
    "def getSlice(img,bin):\n",
    "    img = np.asarray(img)\n",
    "    result = []\n",
    "    \n",
    "    height, width = img.shape\n",
    "    c=0\n",
    "    for y in range(0,height,10):\n",
    "        YIMG =[]\n",
    "        for x in range(0,width,10):\n",
    "            print(img[y,x])\n",
    "            if img[y,x][0]<bin[1] and img[y,x][0]>bin[0]:\n",
    "                 YIMG.append(img[y,x])\n",
    "            else :\n",
    "                 YIMG.append([255,255,255])\n",
    "        result.append(YIMG)\n",
    "    return result\n",
    "            \n",
    "            \n",
    "#print(getSlice(img,[0,255])) \n",
    "plt.imshow(getSlice(img,[0,300]))\n",
    "plt.show()\n",
    "\"\"\"\n",
    "plt.imshow(getSlice(img,[101,200]))\n",
    "plt.show()\n",
    "plt.imshow(getSlice(img,[201,300]))\n",
    "plt.show()\""
   ]
  },
  {
   "cell_type": "code",
   "execution_count": 47,
   "id": "924cca9c",
   "metadata": {},
   "outputs": [
    {
     "name": "stdout",
     "output_type": "stream",
     "text": [
      "uint8\n",
      "uint8\n"
     ]
    }
   ],
   "source": [
    "#not an unit16 image ??\n",
    "fn = \"images/img1.tiff\"\n",
    "a = tiff.imread(fn)\n",
    "print(a.dtype) \n",
    "a = cv2.imread(fn,-1)\n",
    "print (a.dtype)    \n",
    "\n"
   ]
  },
  {
   "cell_type": "code",
   "execution_count": null,
   "id": "a6966b72",
   "metadata": {},
   "outputs": [],
   "source": []
  },
  {
   "cell_type": "code",
   "execution_count": null,
   "id": "da08cfd4",
   "metadata": {},
   "outputs": [],
   "source": []
  }
 ],
 "metadata": {
  "kernelspec": {
   "display_name": "Python 3 (ipykernel)",
   "language": "python",
   "name": "python3"
  },
  "language_info": {
   "codemirror_mode": {
    "name": "ipython",
    "version": 3
   },
   "file_extension": ".py",
   "mimetype": "text/x-python",
   "name": "python",
   "nbconvert_exporter": "python",
   "pygments_lexer": "ipython3",
   "version": "3.7.9"
  }
 },
 "nbformat": 4,
 "nbformat_minor": 5
}
